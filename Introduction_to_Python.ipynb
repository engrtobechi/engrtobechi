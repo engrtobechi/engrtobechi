{
  "nbformat": 4,
  "nbformat_minor": 0,
  "metadata": {
    "colab": {
      "provenance": [],
      "collapsed_sections": [],
      "toc_visible": true,
      "authorship_tag": "ABX9TyPHnPzvugJHyuvxfIkK+6mL",
      "include_colab_link": true
    },
    "kernelspec": {
      "name": "python3",
      "display_name": "Python 3"
    },
    "language_info": {
      "name": "python"
    }
  },
  "cells": [
    {
      "cell_type": "markdown",
      "metadata": {
        "id": "view-in-github",
        "colab_type": "text"
      },
      "source": [
        "<a href=\"https://colab.research.google.com/github/engrtobechi/engrtobechi/blob/main/Introduction_to_Python.ipynb\" target=\"_parent\"><img src=\"https://colab.research.google.com/assets/colab-badge.svg\" alt=\"Open In Colab\"/></a>"
      ]
    },
    {
      "cell_type": "markdown",
      "source": [
        "# Introduction\n",
        "\n",
        "Python is an object-oriented programming language released in 1991. It was developed by Guido van Rossum of the National Research Institute for Mathematics and Computer Science in Amsterdam.\n",
        "\n",
        "Python is now ranked the world's most popular programming language, according to <a href=\"https://www.tiobe.com/tiobe-index/\">TIOBE</a> and <a href=\"https://pypl.github.io/PYPL.html\">PyPL Ranking.</a>\n",
        "\n",
        "Python has a beautiful and human readable syntax which makes it the go to programming language for beginners.\n",
        "\n",
        "In this section we shall learn to write python code, run it and get some outputs.\n",
        "\n",
        "We shall look at the following:\n",
        "\n",
        "* Comments in Code\n",
        "* Variables and Assignment Statements\n",
        "* Function <i>print()</i> \n",
        "* Arithmetic Operations\n",
        "* Logic Operations"
      ],
      "metadata": {
        "id": "slEkzvEtAU4U"
      }
    },
    {
      "cell_type": "markdown",
      "source": [
        "## Comment in Code\n",
        "To make a comment inside your Python code simply use the # symbol before the text. Comments are ignored by the Python compiler.\n",
        "\n",
        "#### Example 1.1:"
      ],
      "metadata": {
        "id": "KJadh1KdD2DB"
      }
    },
    {
      "cell_type": "code",
      "source": [
        "# Example 1.1 This is our first comment in code.\n",
        "# Let us perform simple arithmetic below\n",
        "\n",
        "4 + 6"
      ],
      "metadata": {
        "colab": {
          "base_uri": "https://localhost:8080/"
        },
        "id": "KuyYWh-eDbKy",
        "outputId": "538555fe-33de-4b16-fb81-b6ec6b7138bf"
      },
      "execution_count": 4,
      "outputs": [
        {
          "output_type": "execute_result",
          "data": {
            "text/plain": [
              "10"
            ]
          },
          "metadata": {},
          "execution_count": 4
        }
      ]
    },
    {
      "cell_type": "markdown",
      "source": [
        "\n",
        "## Variables and Assignment Statements\n",
        "You can think of variables are a means to store values for later use in code.\n",
        "\n",
        "In the example below we try to create two variables to store length and width of a rectangle which is subsequently used to calculate it's area.\n",
        "\n",
        "#### Example 1.2:"
      ],
      "metadata": {
        "id": "g9JuVH4iEk5_"
      }
    },
    {
      "cell_type": "code",
      "execution_count": 5,
      "metadata": {
        "colab": {
          "base_uri": "https://localhost:8080/"
        },
        "id": "-iJ7imwD6eLL",
        "outputId": "e53223ec-7d9c-467b-f4d6-1eef7b5a4526"
      },
      "outputs": [
        {
          "output_type": "execute_result",
          "data": {
            "text/plain": [
              "80"
            ]
          },
          "metadata": {},
          "execution_count": 5
        }
      ],
      "source": [
        "# Example 1.2\n",
        "# Let us create two variables to calculate area\n",
        "\n",
        "length = 8\n",
        "width = 10\n",
        "\n",
        "area = length * width\n",
        "\n",
        "area"
      ]
    },
    {
      "cell_type": "markdown",
      "source": [
        "### Data Types\n",
        "Below we explore the various data types that can be stored in our variable:\n",
        "\n",
        "* Integers \n",
        "* Floats\n",
        "* Strings\n",
        "* Boolean\n",
        "\n",
        "#### Example 1.3:"
      ],
      "metadata": {
        "id": "xxLEdeWmFlzk"
      }
    },
    {
      "cell_type": "code",
      "source": [
        "# Example 1.3\n",
        "\n",
        "age = 25\n",
        "weight = 74.5\n",
        "height = 1.82\n",
        "name = \"Tobechi\"\n",
        "is_male = True\n",
        "\n",
        "bmi = weight / (height * height)\n",
        "\n",
        "bmi"
      ],
      "metadata": {
        "colab": {
          "base_uri": "https://localhost:8080/"
        },
        "id": "kiv_2I4P7LVF",
        "outputId": "fee36b22-aea7-41bc-d4a2-bed977a71d1f"
      },
      "execution_count": 6,
      "outputs": [
        {
          "output_type": "execute_result",
          "data": {
            "text/plain": [
              "22.491245018717546"
            ]
          },
          "metadata": {},
          "execution_count": 6
        }
      ]
    },
    {
      "cell_type": "markdown",
      "source": [
        "## Function `print()` and the `str()`\n",
        "\n",
        "The `print()` function is used in Python to output text to the user. \n",
        "\n",
        "On the other hand `str()` function is used to convert non-string variables into string.\n",
        "\n",
        "#### Example 1.4:"
      ],
      "metadata": {
        "id": "nOktsnJjIiG_"
      }
    },
    {
      "cell_type": "code",
      "source": [
        "# Example 1.4\n",
        "# Outputting a Hello Message\n",
        "print(\"Hello Tobechi\")\n",
        "\n",
        "# Outputting some text combined with variables using the plus operation \n",
        "print(name + \" is \" + str(age) + \" years old.\")"
      ],
      "metadata": {
        "colab": {
          "base_uri": "https://localhost:8080/"
        },
        "id": "Hcsj0kcMJKSO",
        "outputId": "55ae7d99-7c8f-4564-acfe-2f88116a96e5"
      },
      "execution_count": 7,
      "outputs": [
        {
          "output_type": "stream",
          "name": "stdout",
          "text": [
            "Hello Tobechi\n",
            "Tobechi is 25 years old.\n"
          ]
        }
      ]
    },
    {
      "cell_type": "markdown",
      "source": [
        "## Arithmetic Operations\n",
        "\n",
        "Just like in mathematics arithmetic operators are supported in Python.\n",
        "\n",
        "These arithmetic operators include:\n",
        "\n",
        "<table>\n",
        "  <thead>\n",
        "    <tr>\n",
        "      <td>Python operation</td>\n",
        "      <td>Arithmetic operator</td>\n",
        "      <td>Algebraic expression</td>\n",
        "      <td>Python expression</td>\n",
        "    </tr>\n",
        "  </thead>\n",
        "\n",
        "  <tr>\n",
        "    <td>Addition</td>\n",
        "    <td> + </td>\n",
        "    <td> a + 7 </td>\n",
        "    <td> a + 7 </td>\n",
        "  </tr>\n",
        "\n",
        "  <tr>\n",
        "    <td>Subtraction</td>\n",
        "    <td> – </td> \n",
        "    <td> b – c </td>\n",
        "    <td> b - c </td>\n",
        "  </tr>\n",
        "\n",
        "  <tr>\n",
        "    <td>Multiplication</td>\n",
        "    <td> * </td>\n",
        "    <td> b · c </td>\n",
        "    <td> b * c </td>\n",
        "  </tr>\n",
        "\n",
        "  <tr>\n",
        "    <td>Exponentiation</td>\n",
        "    <td> ** </td>\n",
        "    <td> x ^ y  </td>\n",
        "    <td> x ** y </td>\n",
        "  </tr>\n",
        "  \n",
        "  <tr>\n",
        "    <td>Division</td>\n",
        "    <td> / </td>\n",
        "    <td> x / y</td>\n",
        "    <td> x / y</td>\n",
        "  </tr>\n",
        "\n",
        "  <tr>\n",
        "    <td>Floor division</td> \n",
        "    <td> // </td>\n",
        "    <td> x // y </td>\n",
        "    <td> x // y </td>\n",
        "  </tr>\n",
        "\n",
        "  <tr>\n",
        "    <td>Remainder</td>\n",
        "    <td>(modulo)</td> \n",
        "    <td> a mod b </td>\n",
        "    <td> a % b </td>\n",
        "</table>\n",
        "\n",
        "All arithmetic operators listed above are recognized by Python within in accordance with established mathematical precedence. \n",
        "\n",
        "PEMDAS or BODMAS\n"
      ],
      "metadata": {
        "id": "bpTFZx_uRCqL"
      }
    },
    {
      "cell_type": "markdown",
      "source": [
        "### Addition\n",
        "\n",
        "Let's calculate the Perimeter of the square in our previous example and then print the output to the screen.\n",
        "\n",
        "#### Example 1.5:"
      ],
      "metadata": {
        "id": "JHCB2nx6SuTD"
      }
    },
    {
      "cell_type": "code",
      "source": [
        "# Example 1.5\n",
        "# Create a variable called perimeter\n",
        "perimeter = length + width + length + width\n",
        "\n",
        "print(\"The perimeter of the rectangle is: \" + str(perimeter) + \" cm\")"
      ],
      "metadata": {
        "colab": {
          "base_uri": "https://localhost:8080/"
        },
        "id": "kIHuiHBpTME5",
        "outputId": "8d68fa0d-8f26-40e6-bab3-b549c9228de8"
      },
      "execution_count": 8,
      "outputs": [
        {
          "output_type": "stream",
          "name": "stdout",
          "text": [
            "The perimeter of the rectangle is: 36 cm\n"
          ]
        }
      ]
    },
    {
      "cell_type": "markdown",
      "source": [
        "### Subtraction\n",
        "\n",
        "After two weeks of workout I lost 1kg, let us see how subtraction works when by reducing my weight variable earlier declared.\n",
        "\n",
        "#### Example 1.6:"
      ],
      "metadata": {
        "id": "ovky_bEjXXMb"
      }
    },
    {
      "cell_type": "code",
      "source": [
        "# Example 1.6\n",
        "new_weight = weight - 1\n",
        "\n",
        "print(name + \" lost some weight and now weighs: \" + str(new_weight) + \" kg\")"
      ],
      "metadata": {
        "colab": {
          "base_uri": "https://localhost:8080/"
        },
        "id": "5XPRZS1JX0fq",
        "outputId": "6ef41126-2c9b-4438-8122-954423acc797"
      },
      "execution_count": 9,
      "outputs": [
        {
          "output_type": "stream",
          "name": "stdout",
          "text": [
            "Tobechi lost some weight and now weighs: 73.5 kg\n"
          ]
        }
      ]
    },
    {
      "cell_type": "markdown",
      "source": [
        "### Multiplication and Division\n",
        "\n",
        "We had earlier used multiplication and division to calculate Tobechi's BMI (Body Mass Index), since he lost some weight let us update the bmi and print to the screen.\n",
        "\n",
        "#### Example 1.7:"
      ],
      "metadata": {
        "id": "gE8tV051Yz9c"
      }
    },
    {
      "cell_type": "code",
      "source": [
        "# Example 1.7\n",
        "bmi = new_weight / (height * height)\n",
        "\n",
        "print(name + \"'s new BMI is: \" + str(bmi))"
      ],
      "metadata": {
        "colab": {
          "base_uri": "https://localhost:8080/"
        },
        "id": "PUGVkw0OZZwd",
        "outputId": "50a0b46a-098a-45d8-bd84-d1dd6a481e8b"
      },
      "execution_count": 10,
      "outputs": [
        {
          "output_type": "stream",
          "name": "stdout",
          "text": [
            "Tobechi's new BMI is: 22.189349112426033\n"
          ]
        }
      ]
    },
    {
      "cell_type": "markdown",
      "source": [
        "### Exponentiation\n",
        "\n",
        "Exponentiation raises the value of one operand by another.\n",
        "\n",
        "See example below.\n",
        "\n",
        "Rather than multiply height in the BMI calculation above by itself we can raise it to the power of two.\n",
        "\n",
        "#### Example 1.8:"
      ],
      "metadata": {
        "id": "7hZo2oqjl9Gf"
      }
    },
    {
      "cell_type": "code",
      "source": [
        "# Example 1.8\n",
        "bmi = new_weight / (height ** 2)\n",
        "\n",
        "print(name + \"'s new BMI is: \" + str(bmi))"
      ],
      "metadata": {
        "colab": {
          "base_uri": "https://localhost:8080/"
        },
        "id": "qpSDXXmAmg8n",
        "outputId": "8684454d-9593-499b-e234-fd1466212cce"
      },
      "execution_count": 11,
      "outputs": [
        {
          "output_type": "stream",
          "name": "stdout",
          "text": [
            "Tobechi's new BMI is: 22.189349112426033\n"
          ]
        }
      ]
    },
    {
      "cell_type": "markdown",
      "source": [
        "### Floor Division\n",
        "\n",
        "In floor division Python discards or truncates the remainder part of the resulting value and returns the whole number.\n",
        "\n",
        "We see this in an example where 14 is the numerator and 5 is the dinominator.\n",
        "\n",
        "#### Example 1.9:"
      ],
      "metadata": {
        "id": "Tpjkn1hiaaIR"
      }
    },
    {
      "cell_type": "code",
      "source": [
        "# Example 1.9\n",
        "x = 14\n",
        "y = 5\n",
        "\n",
        "x // y"
      ],
      "metadata": {
        "colab": {
          "base_uri": "https://localhost:8080/"
        },
        "id": "ZQAM8TuybJbV",
        "outputId": "9999b8f8-8c25-4952-cf3b-9f2b06852dc2"
      },
      "execution_count": 12,
      "outputs": [
        {
          "output_type": "execute_result",
          "data": {
            "text/plain": [
              "2"
            ]
          },
          "metadata": {},
          "execution_count": 12
        }
      ]
    },
    {
      "cell_type": "markdown",
      "source": [
        "### Remainder\n",
        "\n",
        "In the remainder operation Python discards the whole number part of the division and outputs the remainder.\n",
        "\n",
        "See example below:\n",
        "\n",
        "#### Example 1.10:"
      ],
      "metadata": {
        "id": "oUkqa15VnFhF"
      }
    },
    {
      "cell_type": "code",
      "source": [
        "# Example 1.10\n",
        "x % y"
      ],
      "metadata": {
        "colab": {
          "base_uri": "https://localhost:8080/"
        },
        "id": "21KftpiUnhJQ",
        "outputId": "ab6abd24-7105-45a5-c107-23ec77011213"
      },
      "execution_count": 13,
      "outputs": [
        {
          "output_type": "execute_result",
          "data": {
            "text/plain": [
              "4"
            ]
          },
          "metadata": {},
          "execution_count": 13
        }
      ]
    },
    {
      "cell_type": "markdown",
      "source": [
        "## Logic Operators\n",
        "\n",
        "<table>\n",
        "  <thead>\n",
        "    <tr>\n",
        "      <td>Algebraic operator</td>\n",
        "      <td>Python operator</td>\n",
        "      <td>Sample condition</td>\n",
        "      <td>Meaning</td>\n",
        "    </tr>\n",
        "  </thead>\n",
        "    \n",
        "  <tr>\n",
        "    <td> > </td>\n",
        "    <td> > </td>\n",
        "    <td> x > y</td> \n",
        "    <td>x is greater than y</td>\n",
        "  </tr>\n",
        "\n",
        "  <tr>\n",
        "    <td> < </td>\n",
        "    <td> < </td>\n",
        "    <td> x < y </td>\n",
        "    <td>x is less than y</td>\n",
        "  </tr>\n",
        "\n",
        "  <tr>\n",
        "    <td> ≥ </td>\n",
        "    <td> >= </td>\n",
        "    <td> x >= y </td>\n",
        "    <td> x is greater than or equal to y</td>\n",
        "  </tr>\n",
        "\n",
        "  <tr>\n",
        "    <td> ≤ </td>\n",
        "    <td> <= </td>\n",
        "    <td> x <= y </td>\n",
        "    <td> x is less than or equal to y</td>\n",
        "  </tr>\n",
        "\n",
        "  <tr>\n",
        "    <td> = </td>\n",
        "    <td> == </td> \n",
        "    <td> x == y </td>\n",
        "    <td> x is equal to y</td>\n",
        "  </tr>\n",
        "\n",
        "  <tr>\n",
        "    <td> ≠ </td>\n",
        "    <td> != </td>\n",
        "    <td> x != y </td>\n",
        "    <td> x is not equal to y</td>\n",
        "  </tr>\n",
        "  </table>\n",
        "\n",
        "  #### Example 1.11:"
      ],
      "metadata": {
        "id": "fhZ3dA5An5M_"
      }
    },
    {
      "cell_type": "code",
      "source": [
        "# Example 1.11\n",
        "# The following block of code compares two variables using logic operators\n",
        "print(\"x is:\", x)\n",
        "print(\"y is:\", y)\n",
        "\n",
        "print(\"Is x > y? :\", (x > y))\n",
        "print(\"Is x < y? :\", (x < y))\n",
        "print(\"Is x >= y? :\", (x >= y))\n",
        "print(\"Is x != y? :\", (x != y))"
      ],
      "metadata": {
        "id": "Sr65SJ5loO9r",
        "colab": {
          "base_uri": "https://localhost:8080/"
        },
        "outputId": "1478a904-e6cf-4de1-bd3f-419a77500dd7"
      },
      "execution_count": 14,
      "outputs": [
        {
          "output_type": "stream",
          "name": "stdout",
          "text": [
            "x is: 14\n",
            "y is: 5\n",
            "Is x > y? : True\n",
            "Is x < y? : False\n",
            "Is x >= y? : True\n",
            "Is x != y? : True\n"
          ]
        }
      ]
    },
    {
      "cell_type": "markdown",
      "source": [
        "# Dicision Making\n",
        "There are times when you would want a piece of code to execute only if a condition is met. We consider this a dicision making need.\n",
        "\n",
        "In Python such blocks of code are called conditional statements.\n",
        "\n",
        "Below we look at how to use the if…elif…else statement in Python. \n",
        "\n",
        "#### Example 2.1:"
      ],
      "metadata": {
        "id": "2DInP-b7D-Si"
      }
    },
    {
      "cell_type": "code",
      "source": [
        "# Example 2.1\n",
        "# Using the if statement let us print a message telling if the assigned value to the number variable is even or odd\n",
        "\n",
        "number = 3\n",
        "if number % 2 == 0:\n",
        "    print(number, \"is an even number.\")\n"
      ],
      "metadata": {
        "id": "QMLvEpEhpsgW"
      },
      "execution_count": 15,
      "outputs": []
    },
    {
      "cell_type": "markdown",
      "source": [
        "## `if...else` block\n",
        "Notice that nothing is printed to the output because the number is odd.\n",
        "\n",
        "Let us go on to modify the code to print a message if the number is odd using an else statement.\n",
        "\n",
        "#### Example 2.2:"
      ],
      "metadata": {
        "id": "dMElVQ4W_Bpe"
      }
    },
    {
      "cell_type": "code",
      "source": [
        "# Example 2.2:\n",
        "number = 3\n",
        "if number % 2 == 0:\n",
        "    print(number, \"is an even number.\")\n",
        "else:\n",
        "  print(number, \"is an odd number.\")"
      ],
      "metadata": {
        "colab": {
          "base_uri": "https://localhost:8080/"
        },
        "id": "gfLnER1z_PG2",
        "outputId": "3723df2a-ba4f-4451-dd3a-debb93a92eb3"
      },
      "execution_count": 16,
      "outputs": [
        {
          "output_type": "stream",
          "name": "stdout",
          "text": [
            "3 is an odd number.\n"
          ]
        }
      ]
    },
    {
      "cell_type": "markdown",
      "source": [
        "### Function `input()` and `int()`\n",
        "Let's make the code more fun by using the `input()` function to acquire user input and assigning it to the variable.\n",
        "\n",
        "The `int()` function just like the `str()` function converts String literals into Integers.\n",
        "\n",
        "We see it in use below, where we convert the `user_input` variable into an integer.\n",
        "\n",
        "#### Example 2.3:"
      ],
      "metadata": {
        "id": "5ibji8A7_hJw"
      }
    },
    {
      "cell_type": "code",
      "source": [
        "# Example 2.3\n",
        "user_input = input(\"Enter a random number: \")\n",
        "\n",
        "number = int(user_input)\n",
        "\n",
        "if number % 2 == 0:\n",
        "    print(number, \"is an even number.\")\n",
        "else:\n",
        "    print(number, \"is an odd number.\")"
      ],
      "metadata": {
        "colab": {
          "base_uri": "https://localhost:8080/"
        },
        "id": "VtenT1PR_6jb",
        "outputId": "4c7322cb-e445-4c26-a6f0-b6b087a765f0"
      },
      "execution_count": 17,
      "outputs": [
        {
          "output_type": "stream",
          "name": "stdout",
          "text": [
            "Enter a random number: 8\n",
            "8 is an even number.\n"
          ]
        }
      ]
    },
    {
      "cell_type": "markdown",
      "source": [
        "## `if...elif...else` block\n",
        "In the next example we see how to add more steps to the conditional block of code using the `elif` statement.\n",
        "\n",
        "#### Example 2.4:"
      ],
      "metadata": {
        "id": "T_yqmazmGW7b"
      }
    },
    {
      "cell_type": "code",
      "source": [
        "# Example 2.4\n",
        "if number > 0:\n",
        "    print(number, \"is a positive number\")\n",
        "elif number < 0:\n",
        "    print(number, \"is a negative number\")\n",
        "else:\n",
        "  print(number, \"is Zero\")"
      ],
      "metadata": {
        "id": "WYWcfqq6G-qo",
        "colab": {
          "base_uri": "https://localhost:8080/"
        },
        "outputId": "6b6e8dad-176c-484a-ad12-df17892e73ae"
      },
      "execution_count": 18,
      "outputs": [
        {
          "output_type": "stream",
          "name": "stdout",
          "text": [
            "8 is a positive number\n"
          ]
        }
      ]
    },
    {
      "cell_type": "markdown",
      "source": [
        "# Repetition\n",
        "Repetition often referred to as loops in programming is the process of repeating a set of instructions or blocks of code in a program. \n",
        "\n",
        "## The `for` loop\n",
        "\n",
        "Below we greet all students in our class list stored in a variable called `student_list`.\n",
        "\n",
        "```\n",
        "# The code syntax of a for loop takes this form:\n",
        "for val in sequence:\n",
        "    loop body\n",
        "```\n",
        "\n",
        "#### Example 3.1:\n"
      ],
      "metadata": {
        "id": "yKXmbVsYETN9"
      }
    },
    {
      "cell_type": "code",
      "source": [
        "# Example 3.1\n",
        "student_list = [\"Henry\", \"Taiwo\", \"Adebayo\", \"Abdulahi\", \"Tobechi\"]\n",
        "\n",
        "for student in student_list:\n",
        "  print(\"Hello \", student)"
      ],
      "metadata": {
        "id": "YfLhqCyJEb07",
        "colab": {
          "base_uri": "https://localhost:8080/"
        },
        "outputId": "ae68ac4c-73b4-4e57-d29b-db5097fb5f6f"
      },
      "execution_count": 19,
      "outputs": [
        {
          "output_type": "stream",
          "name": "stdout",
          "text": [
            "Hello  Henry\n",
            "Hello  Taiwo\n",
            "Hello  Adebayo\n",
            "Hello  Abdulahi\n",
            "Hello  Tobechi\n"
          ]
        }
      ]
    },
    {
      "cell_type": "markdown",
      "source": [
        "## The `for` loop and the `else` block\n",
        "\n",
        "We take the example of greeting the students futher by adding the else statement to it.\n",
        "\n",
        "#### Example 3.2:"
      ],
      "metadata": {
        "id": "TkLc1x2QcDMP"
      }
    },
    {
      "cell_type": "code",
      "source": [
        "# Example 3.2\n",
        "for student in student_list:\n",
        "  print(\"Hello \", student)\n",
        "else:\n",
        "  print(\"I have exhuasted the list of students.\")"
      ],
      "metadata": {
        "colab": {
          "base_uri": "https://localhost:8080/"
        },
        "id": "HIISYkswcPG_",
        "outputId": "3e596678-e037-412a-a01d-3c18b0fe9c8a"
      },
      "execution_count": 20,
      "outputs": [
        {
          "output_type": "stream",
          "name": "stdout",
          "text": [
            "Hello  Henry\n",
            "Hello  Taiwo\n",
            "Hello  Adebayo\n",
            "Hello  Abdulahi\n",
            "Hello  Tobechi\n",
            "I have exhuasted the list of students.\n"
          ]
        }
      ]
    },
    {
      "cell_type": "markdown",
      "source": [
        "## The `while` loop\n",
        "\n",
        "Unlike the `for` loop which iterates over a sequence the `while` loop iterate over a block of code for as long as the `test_expression` (condition) is `true`.\n",
        "\n",
        "```\n",
        "# The code syntax of the while loop is as follows\n",
        "while test_expression is true:\n",
        "    code to run\n",
        "```\n",
        "\n",
        "#### Example 3.3:\n"
      ],
      "metadata": {
        "id": "pVMkaBP3diIw"
      }
    },
    {
      "cell_type": "markdown",
      "source": [
        "Let's find the sum of all numbers upto 10 using the `while` loop."
      ],
      "metadata": {
        "id": "MVNubNc0g8cy"
      }
    },
    {
      "cell_type": "code",
      "source": [
        "# Example 3.3\n",
        "a = 10\n",
        "\n",
        "# Initializing the variable sum to the value 0\n",
        "sum = 0\n",
        "\n",
        "# Loop counter\n",
        "i = 1\n",
        "\n",
        "while i <= a:\n",
        "  sum = sum + i\n",
        "  i = i + 1\n",
        "\n",
        "print(sum)"
      ],
      "metadata": {
        "colab": {
          "base_uri": "https://localhost:8080/"
        },
        "id": "AmD_yDQNip_g",
        "outputId": "7975cbe0-168b-4d5c-8087-865223230a0e"
      },
      "execution_count": 21,
      "outputs": [
        {
          "output_type": "stream",
          "name": "stdout",
          "text": [
            "55\n"
          ]
        }
      ]
    },
    {
      "cell_type": "markdown",
      "source": [
        "### `while...else` block\n",
        "\n",
        "`while` loop can also be used with the `else` statement, we go on in the next example to add an `else` block to the previous example.\n",
        "\n",
        "#### Example 3.4:"
      ],
      "metadata": {
        "id": "ZABY2T8DvmGU"
      }
    },
    {
      "cell_type": "code",
      "source": [
        "# Example 3.4\n",
        "a = 10\n",
        "\n",
        "# Initializing the variable sum to the value 0\n",
        "sum = 0\n",
        "\n",
        "# Loop counter\n",
        "i = 1\n",
        "\n",
        "while i <= a:\n",
        "  sum = sum + i\n",
        "  i = i + 1\n",
        "else:\n",
        "  print(\"LOOP ENDED\")\n",
        "\n",
        "print(sum)"
      ],
      "metadata": {
        "colab": {
          "base_uri": "https://localhost:8080/"
        },
        "id": "yuBl4XPJwDdd",
        "outputId": "3cce7f83-8de0-4089-db64-57a8f21111bf"
      },
      "execution_count": 22,
      "outputs": [
        {
          "output_type": "stream",
          "name": "stdout",
          "text": [
            "LOOP ENDED\n",
            "55\n"
          ]
        }
      ]
    },
    {
      "cell_type": "markdown",
      "source": [
        "## The `break` and `continue` keywords\n",
        "\n",
        "The `break` and `continue` keywords in Python loops are used to break or continue a loop.\n",
        "\n",
        "The `break` keyword breaks a loop once the Python compiler encounters it.\n",
        "\n",
        "#### Example 3.5:"
      ],
      "metadata": {
        "id": "6sO--D6KztOX"
      }
    },
    {
      "cell_type": "code",
      "source": [
        "# Example 3.5\n",
        "for alphabet in \"Python\":\n",
        "  if alphabet == \"h\":\n",
        "    break\n",
        "  print(alphabet)"
      ],
      "metadata": {
        "colab": {
          "base_uri": "https://localhost:8080/"
        },
        "id": "nPfCvE864Pug",
        "outputId": "023aa9a7-c208-461c-9b4f-d2422b78df4b"
      },
      "execution_count": 23,
      "outputs": [
        {
          "output_type": "stream",
          "name": "stdout",
          "text": [
            "P\n",
            "y\n",
            "t\n"
          ]
        }
      ]
    },
    {
      "cell_type": "markdown",
      "source": [
        "## The `continue` keyword\n",
        "\n",
        "The `continue` keyword jumps the loop to the next iteration.\n",
        "\n",
        "#### Example 3.6:"
      ],
      "metadata": {
        "id": "cftfPKTh5yj7"
      }
    },
    {
      "cell_type": "code",
      "source": [
        "# Example 3.6\n",
        "for alphabet in \"Python\":\n",
        "  if alphabet == \"h\":\n",
        "    continue\n",
        "  print(alphabet)"
      ],
      "metadata": {
        "colab": {
          "base_uri": "https://localhost:8080/"
        },
        "id": "FnBWfu205bC7",
        "outputId": "3383672b-8a3d-4510-9fc0-d6bf98031746"
      },
      "execution_count": 2,
      "outputs": [
        {
          "output_type": "stream",
          "name": "stdout",
          "text": [
            "P\n",
            "y\n",
            "t\n",
            "o\n",
            "n\n"
          ]
        }
      ]
    },
    {
      "cell_type": "markdown",
      "source": [
        "# Functions\n",
        "\n",
        "Functions provide programmers a way of writing re-usable code by breaking programs into smaller and modular chunks that perform specific task.\n",
        "\n",
        "\n",
        "```\n",
        "# The syntax for functions in Python are as show below\n",
        "def function_name(parameters):\n",
        "    statement(s)\n",
        "```\n",
        "#### Example 4.1:\n"
      ],
      "metadata": {
        "id": "3Ztktf3bEZHs"
      }
    },
    {
      "cell_type": "code",
      "source": [
        "# Example 4.1\n",
        "def addition(a, b):\n",
        "  sum = a + b\n",
        "  print(sum)"
      ],
      "metadata": {
        "id": "ljU4N6UCEkzD"
      },
      "execution_count": 25,
      "outputs": []
    },
    {
      "cell_type": "markdown",
      "source": [
        "Using functions in code are done as we saw with the `print()` function.\n",
        "\n",
        "Having created the `addition()` function, we go on to call it and pass two arguments to it as seen below.\n",
        "\n",
        "It is important to note that a function call can only be made after it has been defined."
      ],
      "metadata": {
        "id": "iP5Q4zvx95jF"
      }
    },
    {
      "cell_type": "code",
      "source": [
        "addition(3, 8)"
      ],
      "metadata": {
        "colab": {
          "base_uri": "https://localhost:8080/"
        },
        "id": "KhoVoZn1-Rys",
        "outputId": "f2feeeec-39b4-41be-bfc3-e08c683fe390"
      },
      "execution_count": 26,
      "outputs": [
        {
          "output_type": "stream",
          "name": "stdout",
          "text": [
            "11\n"
          ]
        }
      ]
    },
    {
      "cell_type": "markdown",
      "source": [
        "## The `return` statement\n",
        "\n",
        "There are times when a function is required to return an **object** (could be any data type), to achieve this Python allows you to use the `return` keyword followed by the data to return at the end of your function definition.\n",
        "\n",
        "#### Example 4.2:"
      ],
      "metadata": {
        "id": "WS3VQWbG_BlW"
      }
    },
    {
      "cell_type": "code",
      "source": [
        "# Example 4.2:\n",
        "def greet(name):\n",
        "    \"\"\"This function returns the absolute\n",
        "    value of the entered number\"\"\"\n",
        "\n",
        "    if len(name) >= 1:\n",
        "        return \"Good day \" + name + \".\"\n",
        "    else:\n",
        "        return \"Good day\"\n",
        "\n",
        "\n",
        "print(greet(\"Adebayo\"))\n",
        "\n",
        "#print(greet(\"\"))"
      ],
      "metadata": {
        "id": "-3qA4-bhGJAH",
        "colab": {
          "base_uri": "https://localhost:8080/"
        },
        "outputId": "13262f6c-1105-4c93-87d2-9e59876dd9d2"
      },
      "execution_count": 31,
      "outputs": [
        {
          "output_type": "stream",
          "name": "stdout",
          "text": [
            "Good day Adebayo.\n"
          ]
        }
      ]
    },
    {
      "cell_type": "markdown",
      "source": [
        "## Function Parameters\n",
        "\n",
        "Functions can take variable number of parameters and can have a default value.\n",
        "\n",
        "We see this in the examples below.\n",
        "\n",
        "#### Example 4.3:"
      ],
      "metadata": {
        "id": "ih16VuDAM5dx"
      }
    },
    {
      "cell_type": "code",
      "source": [
        "# Example 4.3\n",
        "# greet() function modified to take two arguments\n",
        "def greet(name, msg):\n",
        "  return msg + \" \" + name\n",
        "\n",
        "print(greet(\"Amaka\", \"Good afternoon\"))"
      ],
      "metadata": {
        "colab": {
          "base_uri": "https://localhost:8080/"
        },
        "id": "xJOIXQt3Q6g-",
        "outputId": "e49dd57e-626f-4ef2-e025-e091951f9c59"
      },
      "execution_count": 32,
      "outputs": [
        {
          "output_type": "stream",
          "name": "stdout",
          "text": [
            "Good afternoon Amaka\n"
          ]
        }
      ]
    },
    {
      "cell_type": "markdown",
      "source": [
        "We futher try to modify the greet function to optionally take one argument."
      ],
      "metadata": {
        "id": "KNAIAqa5RiWg"
      }
    },
    {
      "cell_type": "code",
      "source": [
        "def greet(name, msg=\"Good evening\"):\n",
        "  return msg + \" \" + name\n",
        "\n",
        "print(greet(\"Waziri\"))\n",
        "\n",
        "#Call the greet function specifying the second argument\n",
        "print(greet(\"Blessing\", \"You are welcome\"))"
      ],
      "metadata": {
        "colab": {
          "base_uri": "https://localhost:8080/"
        },
        "id": "p2UI6LKnR2lK",
        "outputId": "f556c807-cc35-4db2-d0e4-289c9f11f0f3"
      },
      "execution_count": 34,
      "outputs": [
        {
          "output_type": "stream",
          "name": "stdout",
          "text": [
            "Good evening Waziri\n",
            "You are welcome Blessing\n"
          ]
        }
      ]
    },
    {
      "cell_type": "markdown",
      "source": [
        "Arguments not assigned default values are called **positional arguments** while those assigned values are called **keyword arguments**.\n",
        "\n",
        "A function is capable of taking an arbitrary number of arguments, this is useful when we don't know the number of arguments that would be passed to our function.\n",
        "\n",
        "To accept an arbitrary number of arguments in your function simply use an asterics (*) before the parameter name in the function definition."
      ],
      "metadata": {
        "id": "w6riZWZxT7yW"
      }
    },
    {
      "cell_type": "code",
      "source": [
        "def greet(*names):\n",
        "  for name in names:\n",
        "    print(\"Good day\", name)\n",
        "\n",
        "greet(\"Emeka\", \"Anthony\", \"Funke\", \"Sani\")"
      ],
      "metadata": {
        "colab": {
          "base_uri": "https://localhost:8080/"
        },
        "id": "eQ5khiDic_OK",
        "outputId": "8abfad05-f9f1-4ea7-d904-b931db9d2d14"
      },
      "execution_count": 1,
      "outputs": [
        {
          "output_type": "stream",
          "name": "stdout",
          "text": [
            "Good day Emeka\n",
            "Good day Anthony\n",
            "Good day Funke\n",
            "Good day Sani\n"
          ]
        }
      ]
    },
    {
      "cell_type": "markdown",
      "source": [
        "# Lists and Dictionaries\n",
        "\n",
        "In addition to the initial data types we've studies there are lists and dictionary data types in Python and we would look through them in this section.\n",
        "\n",
        "Lists allow us to hold different data types in a collection seperated by commas, we see this in the example below.\n",
        "\n",
        "#### Example 5.1:"
      ],
      "metadata": {
        "id": "wiks4PorEoDK"
      }
    },
    {
      "cell_type": "code",
      "source": [
        "# Example 5.1\n",
        "\n",
        "# List of strings\n",
        "presidents = [\"Olusegun Obasanjo\", \"Umaru Musa Yar'Adua\", \"Goodluck Jonathan\"]\n",
        "\n",
        "# List of integers\n",
        "prices = [230, 215, 212, 228, 234, 229, 218]\n",
        "\n",
        "# List with mixed data types\n",
        "data_recieved = [\"Won\", 310, \"Loss\", True, 99.2]\n",
        "\n",
        "# Lists can also contain nested lists\n",
        "student_data = [[\"Tunde\", \"SS3B\", 83], [\"Chioma\", \"SS3A\", 91], [\"Tobechi\", \"SS3A\", 99]]"
      ],
      "metadata": {
        "id": "t7uhTmPXExOF"
      },
      "execution_count": null,
      "outputs": []
    },
    {
      "cell_type": "markdown",
      "source": [
        "## Accessing List Items"
      ],
      "metadata": {
        "id": "-8Syskqb-q9p"
      }
    },
    {
      "cell_type": "markdown",
      "source": [
        "# Classes and Objects"
      ],
      "metadata": {
        "id": "lTKFNqBoEz7D"
      }
    },
    {
      "cell_type": "code",
      "source": [],
      "metadata": {
        "id": "J0ntTSa5E7ZO"
      },
      "execution_count": null,
      "outputs": []
    }
  ]
}