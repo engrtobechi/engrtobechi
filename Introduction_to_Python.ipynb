{
  "nbformat": 4,
  "nbformat_minor": 0,
  "metadata": {
    "colab": {
      "provenance": [],
      "collapsed_sections": [],
      "toc_visible": true,
      "authorship_tag": "ABX9TyOFCNTa1vhEA1mM6ZCXfQHO",
      "include_colab_link": true
    },
    "kernelspec": {
      "name": "python3",
      "display_name": "Python 3"
    },
    "language_info": {
      "name": "python"
    }
  },
  "cells": [
    {
      "cell_type": "markdown",
      "metadata": {
        "id": "view-in-github",
        "colab_type": "text"
      },
      "source": [
        "<a href=\"https://colab.research.google.com/github/engrtobechi/engrtobechi/blob/main/Introduction_to_Python.ipynb\" target=\"_parent\"><img src=\"https://colab.research.google.com/assets/colab-badge.svg\" alt=\"Open In Colab\"/></a>"
      ]
    },
    {
      "cell_type": "markdown",
      "source": [
        "# Introduction\n",
        "\n",
        "Python is an object-oriented programming language released in 1991. It was developed by Guido van Rossum of the National Research Institute for Mathematics and Computer Science in Amsterdam.\n",
        "\n",
        "Python is now ranked the world's most popular programming language, according to <a href=\"https://www.tiobe.com/tiobe-index/\">TIOBE</a> and <a href=\"https://pypl.github.io/PYPL.html\">PyPL Ranking.</a>\n",
        "\n",
        "Python has a beautiful and human readable syntax which makes it the go to programming language for beginners.\n",
        "\n",
        "In this section we shall learn to write python code, run it and get some outputs.\n",
        "\n",
        "We shall look at the following:\n",
        "\n",
        "* Comments in Code\n",
        "* Variables and Assignment Statements\n",
        "* Function <i>print()</i> \n",
        "* Arithmetic Operations\n",
        "* Logic Operations "
      ],
      "metadata": {
        "id": "slEkzvEtAU4U"
      }
    },
    {
      "cell_type": "markdown",
      "source": [
        "## Comment in Code\n",
        "To make a comment inside your Python code simply use the # symbol before the text. Comments are ignored by the Python compiler.\n",
        "\n",
        "#### Example 1.1:"
      ],
      "metadata": {
        "id": "KJadh1KdD2DB"
      }
    },
    {
      "cell_type": "code",
      "source": [
        "# Example 1.1 This is our first comment in code.\n",
        "# Let us perform simple arithmetic below\n",
        "\n",
        "4 + 6"
      ],
      "metadata": {
        "colab": {
          "base_uri": "https://localhost:8080/"
        },
        "id": "KuyYWh-eDbKy",
        "outputId": "d51d8920-ffe6-4ad5-9ca9-de7745182077"
      },
      "execution_count": 13,
      "outputs": [
        {
          "output_type": "execute_result",
          "data": {
            "text/plain": [
              "10"
            ]
          },
          "metadata": {},
          "execution_count": 13
        }
      ]
    },
    {
      "cell_type": "markdown",
      "source": [
        "\n",
        "## Variables and Assignment Statements\n",
        "You can think of variables are a means to store values for later use in code.\n",
        "\n",
        "In the example below we try to create two variables to store length and width of a rectangle which is subsequently used to calculate it's area.\n",
        "\n",
        "#### Example 1.2:"
      ],
      "metadata": {
        "id": "g9JuVH4iEk5_"
      }
    },
    {
      "cell_type": "code",
      "execution_count": 14,
      "metadata": {
        "colab": {
          "base_uri": "https://localhost:8080/"
        },
        "id": "-iJ7imwD6eLL",
        "outputId": "d353b400-85dd-4dd2-dad3-37da2a86bfd1"
      },
      "outputs": [
        {
          "output_type": "execute_result",
          "data": {
            "text/plain": [
              "80"
            ]
          },
          "metadata": {},
          "execution_count": 14
        }
      ],
      "source": [
        "# Example 1.2\n",
        "# Let us create two variables to calculate area\n",
        "\n",
        "length = 8\n",
        "width = 10\n",
        "\n",
        "area = length * width\n",
        "\n",
        "area"
      ]
    },
    {
      "cell_type": "markdown",
      "source": [
        "### Data Types\n",
        "Below we explore the various data types that can be stored in our variable:\n",
        "\n",
        "* Integers \n",
        "* Floats\n",
        "* Strings\n",
        "* Boolean\n",
        "\n",
        "#### Example 1.3:"
      ],
      "metadata": {
        "id": "xxLEdeWmFlzk"
      }
    },
    {
      "cell_type": "code",
      "source": [
        "# Example 1.3\n",
        "\n",
        "age = 25\n",
        "weight = 74.5\n",
        "height = 1.82\n",
        "name = \"Tobechi\"\n",
        "is_male = True\n",
        "\n",
        "bmi = weight / (height * height)\n",
        "\n",
        "bmi"
      ],
      "metadata": {
        "colab": {
          "base_uri": "https://localhost:8080/"
        },
        "id": "kiv_2I4P7LVF",
        "outputId": "8057b671-8853-49aa-fa98-c4979554ce50"
      },
      "execution_count": 15,
      "outputs": [
        {
          "output_type": "execute_result",
          "data": {
            "text/plain": [
              "22.491245018717546"
            ]
          },
          "metadata": {},
          "execution_count": 15
        }
      ]
    },
    {
      "cell_type": "markdown",
      "source": [
        "## Function `print()`, the `str()` and the `round()`\n",
        "\n",
        "The `print()` function is used in Python to output text to the user. \n",
        "\n",
        "On the other hand `str()` function is used to convert non-string variables into string.\n",
        "\n",
        "The `round()` allows you to round a floating point number or decimal to the closest multiple of 10.\n",
        "\n",
        "#### Example 1.4:"
      ],
      "metadata": {
        "id": "nOktsnJjIiG_"
      }
    },
    {
      "cell_type": "code",
      "source": [
        "# Example 1.4\n",
        "# Outputting a Hello Message\n",
        "print(\"Hello Tobechi\")\n",
        "\n",
        "# Outputting some text combined with variables using the plus operation \n",
        "print(name + \" is \" + str(age) + \" years old.\")\n",
        "\n",
        "# Rounding the BMI\n",
        "print(name + \"'s BMI is:\", round(bmi))"
      ],
      "metadata": {
        "colab": {
          "base_uri": "https://localhost:8080/"
        },
        "id": "Hcsj0kcMJKSO",
        "outputId": "f579b908-6f5d-47a6-a83c-5e2493682e5f"
      },
      "execution_count": 16,
      "outputs": [
        {
          "output_type": "stream",
          "name": "stdout",
          "text": [
            "Hello Tobechi\n",
            "Tobechi is 25 years old.\n",
            "Tobechi's BMI is: 22\n"
          ]
        }
      ]
    },
    {
      "cell_type": "markdown",
      "source": [
        "## Arithmetic Operations\n",
        "\n",
        "Just like in mathematics arithmetic operators are supported in Python.\n",
        "\n",
        "These arithmetic operators include:\n",
        "\n",
        "<table>\n",
        "  <thead>\n",
        "    <tr>\n",
        "      <td>Python operation</td>\n",
        "      <td>Arithmetic operator</td>\n",
        "      <td>Algebraic expression</td>\n",
        "      <td>Python expression</td>\n",
        "    </tr>\n",
        "  </thead>\n",
        "\n",
        "  <tr>\n",
        "    <td>Addition</td>\n",
        "    <td> + </td>\n",
        "    <td> a + 7 </td>\n",
        "    <td> a + 7 </td>\n",
        "  </tr>\n",
        "\n",
        "  <tr>\n",
        "    <td>Subtraction</td>\n",
        "    <td> – </td> \n",
        "    <td> b – c </td>\n",
        "    <td> b - c </td>\n",
        "  </tr>\n",
        "\n",
        "  <tr>\n",
        "    <td>Multiplication</td>\n",
        "    <td> * </td>\n",
        "    <td> b · c </td>\n",
        "    <td> b * c </td>\n",
        "  </tr>\n",
        "\n",
        "  <tr>\n",
        "    <td>Exponentiation</td>\n",
        "    <td> ** </td>\n",
        "    <td> x ^ y  </td>\n",
        "    <td> x ** y </td>\n",
        "  </tr>\n",
        "  \n",
        "  <tr>\n",
        "    <td>Division</td>\n",
        "    <td> / </td>\n",
        "    <td> x / y</td>\n",
        "    <td> x / y</td>\n",
        "  </tr>\n",
        "\n",
        "  <tr>\n",
        "    <td>Floor division</td> \n",
        "    <td> // </td>\n",
        "    <td> x // y </td>\n",
        "    <td> x // y </td>\n",
        "  </tr>\n",
        "\n",
        "  <tr>\n",
        "    <td>Remainder</td>\n",
        "    <td>(modulo)</td> \n",
        "    <td> a mod b </td>\n",
        "    <td> a % b </td>\n",
        "</table>\n",
        "\n",
        "All arithmetic operators listed above are recognized by Python within in accordance with established mathematical precedence. \n",
        "\n",
        "PEMDAS or BODMAS\n"
      ],
      "metadata": {
        "id": "bpTFZx_uRCqL"
      }
    },
    {
      "cell_type": "markdown",
      "source": [
        "### Addition\n",
        "\n",
        "Let's calculate the Perimeter of the square in our previous example and then print the output to the screen.\n",
        "\n",
        "#### Example 1.5:"
      ],
      "metadata": {
        "id": "JHCB2nx6SuTD"
      }
    },
    {
      "cell_type": "code",
      "source": [
        "# Example 1.5\n",
        "# Create a variable called perimeter\n",
        "perimeter = length + width + length + width\n",
        "\n",
        "print(\"The perimeter of the rectangle is: \" + str(perimeter) + \" cm\")"
      ],
      "metadata": {
        "colab": {
          "base_uri": "https://localhost:8080/"
        },
        "id": "kIHuiHBpTME5",
        "outputId": "25b8fdf5-7c58-425b-9217-2c7cbd2215c2"
      },
      "execution_count": 17,
      "outputs": [
        {
          "output_type": "stream",
          "name": "stdout",
          "text": [
            "The perimeter of the rectangle is: 36 cm\n"
          ]
        }
      ]
    },
    {
      "cell_type": "markdown",
      "source": [
        "### Subtraction\n",
        "\n",
        "After two weeks of workout I lost 1kg, let us see how subtraction works when by reducing my weight variable earlier declared.\n",
        "\n",
        "#### Example 1.6:"
      ],
      "metadata": {
        "id": "ovky_bEjXXMb"
      }
    },
    {
      "cell_type": "code",
      "source": [
        "# Example 1.6\n",
        "new_weight = weight - 1\n",
        "\n",
        "print(name + \" lost some weight and now weighs: \" + str(new_weight) + \" kg\")"
      ],
      "metadata": {
        "colab": {
          "base_uri": "https://localhost:8080/"
        },
        "id": "5XPRZS1JX0fq",
        "outputId": "c8d39bed-9477-4215-a743-75820ae4a104"
      },
      "execution_count": 18,
      "outputs": [
        {
          "output_type": "stream",
          "name": "stdout",
          "text": [
            "Tobechi lost some weight and now weighs: 73.5 kg\n"
          ]
        }
      ]
    },
    {
      "cell_type": "markdown",
      "source": [
        "### Multiplication and Division\n",
        "\n",
        "We had earlier used multiplication and division to calculate Tobechi's BMI (Body Mass Index), since he lost some weight let us update the bmi and print to the screen.\n",
        "\n",
        "#### Example 1.7:"
      ],
      "metadata": {
        "id": "gE8tV051Yz9c"
      }
    },
    {
      "cell_type": "code",
      "source": [
        "# Example 1.7\n",
        "bmi = new_weight / (height * height)\n",
        "\n",
        "print(name + \"'s new BMI is: \" + str(bmi))"
      ],
      "metadata": {
        "colab": {
          "base_uri": "https://localhost:8080/"
        },
        "id": "PUGVkw0OZZwd",
        "outputId": "0f32db08-8322-424a-87d2-26db35394fc5"
      },
      "execution_count": 19,
      "outputs": [
        {
          "output_type": "stream",
          "name": "stdout",
          "text": [
            "Tobechi's new BMI is: 22.189349112426033\n"
          ]
        }
      ]
    },
    {
      "cell_type": "markdown",
      "source": [
        "### Exponentiation\n",
        "\n",
        "Exponentiation raises the value of one operand by another.\n",
        "\n",
        "See example below.\n",
        "\n",
        "Rather than multiply height in the BMI calculation above by itself we can raise it to the power of two.\n",
        "\n",
        "#### Example 1.8:"
      ],
      "metadata": {
        "id": "7hZo2oqjl9Gf"
      }
    },
    {
      "cell_type": "code",
      "source": [
        "# Example 1.8\n",
        "bmi = new_weight / (height ** 2)\n",
        "\n",
        "print(name + \"'s new BMI is: \" + str(bmi))"
      ],
      "metadata": {
        "colab": {
          "base_uri": "https://localhost:8080/"
        },
        "id": "qpSDXXmAmg8n",
        "outputId": "2d976ef1-353a-47cb-ee40-45dda34f00a6"
      },
      "execution_count": 20,
      "outputs": [
        {
          "output_type": "stream",
          "name": "stdout",
          "text": [
            "Tobechi's new BMI is: 22.189349112426033\n"
          ]
        }
      ]
    },
    {
      "cell_type": "markdown",
      "source": [
        "### Floor Division\n",
        "\n",
        "In floor division Python discards or truncates the remainder part of the resulting value and returns the whole number.\n",
        "\n",
        "We see this in an example where 14 is the numerator and 5 is the dinominator.\n",
        "\n",
        "#### Example 1.9:"
      ],
      "metadata": {
        "id": "Tpjkn1hiaaIR"
      }
    },
    {
      "cell_type": "code",
      "source": [
        "# Example 1.9\n",
        "x = 14\n",
        "y = 5\n",
        "\n",
        "x // y"
      ],
      "metadata": {
        "colab": {
          "base_uri": "https://localhost:8080/"
        },
        "id": "ZQAM8TuybJbV",
        "outputId": "649da196-59f4-4d1f-abc6-4ab8480f5aab"
      },
      "execution_count": 21,
      "outputs": [
        {
          "output_type": "execute_result",
          "data": {
            "text/plain": [
              "2"
            ]
          },
          "metadata": {},
          "execution_count": 21
        }
      ]
    },
    {
      "cell_type": "markdown",
      "source": [
        "### Remainder\n",
        "\n",
        "In the remainder operation Python discards the whole number part of the division and outputs the remainder.\n",
        "\n",
        "See example below:\n",
        "\n",
        "#### Example 1.10:"
      ],
      "metadata": {
        "id": "oUkqa15VnFhF"
      }
    },
    {
      "cell_type": "code",
      "source": [
        "# Example 1.10\n",
        "x % y"
      ],
      "metadata": {
        "colab": {
          "base_uri": "https://localhost:8080/"
        },
        "id": "21KftpiUnhJQ",
        "outputId": "c0a13e40-e790-4272-8a47-05324ff9fd30"
      },
      "execution_count": 22,
      "outputs": [
        {
          "output_type": "execute_result",
          "data": {
            "text/plain": [
              "4"
            ]
          },
          "metadata": {},
          "execution_count": 22
        }
      ]
    },
    {
      "cell_type": "markdown",
      "source": [
        "## Logic Operators\n",
        "\n",
        "<table>\n",
        "  <thead>\n",
        "    <tr>\n",
        "      <td>Algebraic operator</td>\n",
        "      <td>Python operator</td>\n",
        "      <td>Sample condition</td>\n",
        "      <td>Meaning</td>\n",
        "    </tr>\n",
        "  </thead>\n",
        "    \n",
        "  <tr>\n",
        "    <td> > </td>\n",
        "    <td> > </td>\n",
        "    <td> x > y</td> \n",
        "    <td>x is greater than y</td>\n",
        "  </tr>\n",
        "\n",
        "  <tr>\n",
        "    <td> < </td>\n",
        "    <td> < </td>\n",
        "    <td> x < y </td>\n",
        "    <td>x is less than y</td>\n",
        "  </tr>\n",
        "\n",
        "  <tr>\n",
        "    <td> ≥ </td>\n",
        "    <td> >= </td>\n",
        "    <td> x >= y </td>\n",
        "    <td> x is greater than or equal to y</td>\n",
        "  </tr>\n",
        "\n",
        "  <tr>\n",
        "    <td> ≤ </td>\n",
        "    <td> <= </td>\n",
        "    <td> x <= y </td>\n",
        "    <td> x is less than or equal to y</td>\n",
        "  </tr>\n",
        "\n",
        "  <tr>\n",
        "    <td> = </td>\n",
        "    <td> == </td> \n",
        "    <td> x == y </td>\n",
        "    <td> x is equal to y</td>\n",
        "  </tr>\n",
        "\n",
        "  <tr>\n",
        "    <td> ≠ </td>\n",
        "    <td> != </td>\n",
        "    <td> x != y </td>\n",
        "    <td> x is not equal to y</td>\n",
        "  </tr>\n",
        "  </table>\n",
        "\n",
        "  #### Example 1.11:"
      ],
      "metadata": {
        "id": "fhZ3dA5An5M_"
      }
    },
    {
      "cell_type": "code",
      "source": [
        "# Example 1.11\n",
        "# The following block of code compares two variables using logic operators\n",
        "print(\"x is:\", x)\n",
        "print(\"y is:\", y)\n",
        "\n",
        "print(\"Is x > y? :\", (x > y))\n",
        "print(\"Is x < y? :\", (x < y))\n",
        "print(\"Is x >= y? :\", (x >= y))\n",
        "print(\"Is x != y? :\", (x != y))"
      ],
      "metadata": {
        "id": "Sr65SJ5loO9r",
        "colab": {
          "base_uri": "https://localhost:8080/"
        },
        "outputId": "db4fa2fc-9fdf-4f2e-da68-4f4d65c68b12"
      },
      "execution_count": 23,
      "outputs": [
        {
          "output_type": "stream",
          "name": "stdout",
          "text": [
            "x is: 14\n",
            "y is: 5\n",
            "Is x > y? : True\n",
            "Is x < y? : False\n",
            "Is x >= y? : True\n",
            "Is x != y? : True\n"
          ]
        }
      ]
    },
    {
      "cell_type": "markdown",
      "source": [
        "## Decision Making\n",
        "There are times when you would want a piece of code to execute only if a condition is met. We consider this a dicision making need.\n",
        "\n",
        "In Python such blocks of code are called conditional statements.\n",
        "\n",
        "Below we look at how to use the if…elif…else statement in Python. \n",
        "\n",
        "#### Example 2.1:"
      ],
      "metadata": {
        "id": "2DInP-b7D-Si"
      }
    },
    {
      "cell_type": "code",
      "source": [
        "# Example 2.1\n",
        "# Using the if statement let us print a message telling if the assigned value to the number variable is even or odd\n",
        "\n",
        "number = 3\n",
        "if number % 2 == 0:\n",
        "    print(number, \"is an even number.\")\n"
      ],
      "metadata": {
        "id": "QMLvEpEhpsgW"
      },
      "execution_count": 24,
      "outputs": []
    },
    {
      "cell_type": "markdown",
      "source": [
        "## `if...else` block\n",
        "Notice that nothing is printed to the output because the number is odd.\n",
        "\n",
        "Let us go on to modify the code to print a message if the number is odd using an else statement.\n",
        "\n",
        "#### Example 2.2:"
      ],
      "metadata": {
        "id": "dMElVQ4W_Bpe"
      }
    },
    {
      "cell_type": "code",
      "source": [
        "# Example 2.2:\n",
        "number = 3\n",
        "if number % 2 == 0:\n",
        "    print(number, \"is an even number.\")\n",
        "else:\n",
        "  print(number, \"is an odd number.\")"
      ],
      "metadata": {
        "colab": {
          "base_uri": "https://localhost:8080/"
        },
        "id": "gfLnER1z_PG2",
        "outputId": "780d9f84-505a-4975-9f3c-f0ccb15e827a"
      },
      "execution_count": 25,
      "outputs": [
        {
          "output_type": "stream",
          "name": "stdout",
          "text": [
            "3 is an odd number.\n"
          ]
        }
      ]
    },
    {
      "cell_type": "markdown",
      "source": [
        "### Function `input()` and `int()`\n",
        "Let's make the code more fun by using the `input()` function to acquire user input and assigning it to the variable.\n",
        "\n",
        "The `int()` function just like the `str()` function converts String literals into Integers.\n",
        "\n",
        "We see it in use below, where we convert the `user_input` variable into an integer.\n",
        "\n",
        "#### Example 2.3:"
      ],
      "metadata": {
        "id": "5ibji8A7_hJw"
      }
    },
    {
      "cell_type": "code",
      "source": [
        "# Example 2.3\n",
        "user_input = input(\"Enter a random number: \")\n",
        "\n",
        "number = int(user_input)\n",
        "\n",
        "if number % 2 == 0:\n",
        "    print(number, \"is an even number.\")\n",
        "else:\n",
        "    print(number, \"is an odd number.\")"
      ],
      "metadata": {
        "id": "VtenT1PR_6jb",
        "colab": {
          "base_uri": "https://localhost:8080/"
        },
        "outputId": "a178487c-4b99-4118-d29e-dc6363a37738"
      },
      "execution_count": 26,
      "outputs": [
        {
          "output_type": "stream",
          "name": "stdout",
          "text": [
            "Enter a random number: 12\n",
            "12 is an even number.\n"
          ]
        }
      ]
    },
    {
      "cell_type": "markdown",
      "source": [
        "## `if...elif...else` block\n",
        "In the next example we see how to add more steps to the conditional block of code using the `elif` statement.\n",
        "\n",
        "#### Example 2.4:"
      ],
      "metadata": {
        "id": "T_yqmazmGW7b"
      }
    },
    {
      "cell_type": "code",
      "source": [
        "\n",
        "# Example 2.4\n",
        "if number > 0:\n",
        "    print(number, \"is a positive number\")\n",
        "elif number < 0:\n",
        "    print(number, \"is a negative number\")\n",
        "else:\n",
        "  print(number, \"is Zero\")"
      ],
      "metadata": {
        "id": "WYWcfqq6G-qo",
        "colab": {
          "base_uri": "https://localhost:8080/"
        },
        "outputId": "c0e47399-e89a-4c1f-f641-751773935a8a"
      },
      "execution_count": 27,
      "outputs": [
        {
          "output_type": "stream",
          "name": "stdout",
          "text": [
            "12 is a positive number\n"
          ]
        }
      ]
    },
    {
      "cell_type": "markdown",
      "source": [
        "# Repetition\n",
        "Repetition often referred to as loops in programming is the process of repeating a set of instructions or blocks of code in a program. \n",
        "\n",
        "## The `for` loop\n",
        "\n",
        "Below we greet all students in our class list stored in a variable called `student_list`.\n",
        "\n",
        "```\n",
        "# The code syntax of a for loop takes this form:\n",
        "for val in sequence:\n",
        "    loop body\n",
        "```\n",
        "\n",
        "#### Example 3.1:\n"
      ],
      "metadata": {
        "id": "yKXmbVsYETN9"
      }
    },
    {
      "cell_type": "code",
      "source": [
        "# Example 3.1\n",
        "student_list = [\"Henry\", \"Taiwo\", \"Adebayo\", \"Abdulahi\", \"Tobechi\"]\n",
        "\n",
        "for student in student_list:\n",
        "  print(\"Hello \", student)"
      ],
      "metadata": {
        "id": "YfLhqCyJEb07",
        "colab": {
          "base_uri": "https://localhost:8080/"
        },
        "outputId": "b7768390-160c-4631-aa7f-3637d5eecddd"
      },
      "execution_count": 28,
      "outputs": [
        {
          "output_type": "stream",
          "name": "stdout",
          "text": [
            "Hello  Henry\n",
            "Hello  Taiwo\n",
            "Hello  Adebayo\n",
            "Hello  Abdulahi\n",
            "Hello  Tobechi\n"
          ]
        }
      ]
    },
    {
      "cell_type": "markdown",
      "source": [
        "## The `for` loop and the `else` block\n",
        "\n",
        "We take the example of greeting the students futher by adding the else statement to it.\n",
        "\n",
        "#### Example 3.2:"
      ],
      "metadata": {
        "id": "TkLc1x2QcDMP"
      }
    },
    {
      "cell_type": "code",
      "source": [
        "# Example 3.2\n",
        "for student in student_list:\n",
        "  print(\"Hello \", student)\n",
        "else:\n",
        "  print(\"I have exhuasted the list of students.\")"
      ],
      "metadata": {
        "id": "HIISYkswcPG_",
        "colab": {
          "base_uri": "https://localhost:8080/"
        },
        "outputId": "23102235-8683-4383-c39f-5b3b4cdd6ec4"
      },
      "execution_count": 29,
      "outputs": [
        {
          "output_type": "stream",
          "name": "stdout",
          "text": [
            "Hello  Henry\n",
            "Hello  Taiwo\n",
            "Hello  Adebayo\n",
            "Hello  Abdulahi\n",
            "Hello  Tobechi\n",
            "I have exhuasted the list of students.\n"
          ]
        }
      ]
    },
    {
      "cell_type": "markdown",
      "source": [
        "## The `while` loop\n",
        "\n",
        "Unlike the `for` loop which iterates over a sequence the `while` loop iterate over a block of code for as long as the `test_expression` (condition) is `true`.\n",
        "\n",
        "```\n",
        "# The code syntax of the while loop is as follows\n",
        "while test_expression is true:\n",
        "    code to run\n",
        "```\n",
        "\n",
        "#### Example 3.3:\n"
      ],
      "metadata": {
        "id": "pVMkaBP3diIw"
      }
    },
    {
      "cell_type": "markdown",
      "source": [
        "Let's find the sum of all numbers upto 10 using the `while` loop."
      ],
      "metadata": {
        "id": "MVNubNc0g8cy"
      }
    },
    {
      "cell_type": "code",
      "source": [
        "# Example 3.3\n",
        "a = 10\n",
        "\n",
        "# Initializing the variable sum to the value 0\n",
        "sum = 0\n",
        "\n",
        "# Loop counter\n",
        "i = 1\n",
        "\n",
        "while i <= a:\n",
        "  sum = sum + i\n",
        "  i = i + 1\n",
        "\n",
        "print(sum)"
      ],
      "metadata": {
        "id": "AmD_yDQNip_g",
        "colab": {
          "base_uri": "https://localhost:8080/"
        },
        "outputId": "eac2b91a-8bdc-4e2a-b29d-c36e01b08cef"
      },
      "execution_count": 30,
      "outputs": [
        {
          "output_type": "stream",
          "name": "stdout",
          "text": [
            "55\n"
          ]
        }
      ]
    },
    {
      "cell_type": "markdown",
      "source": [
        "### `while...else` block\n",
        "\n",
        "`while` loop can also be used with the `else` statement, we go on in the next example to add an `else` block to the previous example.\n",
        "\n",
        "#### Example 3.4:"
      ],
      "metadata": {
        "id": "ZABY2T8DvmGU"
      }
    },
    {
      "cell_type": "code",
      "source": [
        "# Example 3.4\n",
        "a = 10\n",
        "\n",
        "# Initializing the variable sum to the value 0\n",
        "sum = 0\n",
        "\n",
        "# Loop counter\n",
        "i = 1\n",
        "\n",
        "while i <= a:\n",
        "  sum = sum + i\n",
        "  i = i + 1\n",
        "else:\n",
        "  print(\"LOOP ENDED\")\n",
        "\n",
        "print(sum)"
      ],
      "metadata": {
        "id": "yuBl4XPJwDdd",
        "colab": {
          "base_uri": "https://localhost:8080/"
        },
        "outputId": "9ee7d3eb-c04a-4057-e3e8-d8b7dd841829"
      },
      "execution_count": 31,
      "outputs": [
        {
          "output_type": "stream",
          "name": "stdout",
          "text": [
            "LOOP ENDED\n",
            "55\n"
          ]
        }
      ]
    },
    {
      "cell_type": "markdown",
      "source": [
        "## The `break` and `continue` keywords\n",
        "\n",
        "The `break` and `continue` keywords in Python loops are used to break or continue a loop.\n",
        "\n",
        "The `break` keyword breaks a loop once the Python compiler encounters it.\n",
        "\n",
        "#### Example 3.5:"
      ],
      "metadata": {
        "id": "6sO--D6KztOX"
      }
    },
    {
      "cell_type": "code",
      "source": [
        "# Example 3.5\n",
        "for alphabet in \"Python\":\n",
        "  if alphabet == \"h\":\n",
        "    break\n",
        "  print(alphabet)"
      ],
      "metadata": {
        "id": "nPfCvE864Pug",
        "colab": {
          "base_uri": "https://localhost:8080/"
        },
        "outputId": "d1462a06-02f1-4f54-8589-f2d7984c0f45"
      },
      "execution_count": 32,
      "outputs": [
        {
          "output_type": "stream",
          "name": "stdout",
          "text": [
            "P\n",
            "y\n",
            "t\n"
          ]
        }
      ]
    },
    {
      "cell_type": "markdown",
      "source": [
        "## The `continue` keyword\n",
        "\n",
        "The `continue` keyword jumps the loop to the next iteration.\n",
        "\n",
        "#### Example 3.6:"
      ],
      "metadata": {
        "id": "cftfPKTh5yj7"
      }
    },
    {
      "cell_type": "code",
      "source": [
        "# Example 3.6\n",
        "for alphabet in \"Python\":\n",
        "  if alphabet == \"h\":\n",
        "    continue\n",
        "  print(alphabet)"
      ],
      "metadata": {
        "id": "FnBWfu205bC7",
        "colab": {
          "base_uri": "https://localhost:8080/"
        },
        "outputId": "3de7dd88-483e-40ee-a060-b1a7ae502d83"
      },
      "execution_count": 33,
      "outputs": [
        {
          "output_type": "stream",
          "name": "stdout",
          "text": [
            "P\n",
            "y\n",
            "t\n",
            "o\n",
            "n\n"
          ]
        }
      ]
    },
    {
      "cell_type": "markdown",
      "source": [
        "# Functions\n",
        "\n",
        "Functions provide programmers a way of writing re-usable code by breaking programs into smaller and modular chunks that perform specific task.\n",
        "\n",
        "\n",
        "```\n",
        "# The syntax for functions in Python are as show below\n",
        "def function_name(parameters):\n",
        "    statement(s)\n",
        "```\n",
        "#### Example 4.1:\n"
      ],
      "metadata": {
        "id": "3Ztktf3bEZHs"
      }
    },
    {
      "cell_type": "code",
      "source": [
        "# Example 4.1\n",
        "def addition(a, b):\n",
        "  sum = a + b\n",
        "  print(sum)"
      ],
      "metadata": {
        "id": "ljU4N6UCEkzD"
      },
      "execution_count": 34,
      "outputs": []
    },
    {
      "cell_type": "markdown",
      "source": [
        "Using functions in code are done as we saw with the `print()` function.\n",
        "\n",
        "Having created the `addition()` function, we go on to call it and pass two arguments to it as seen below.\n",
        "\n",
        "It is important to note that a function call can only be made after it has been defined."
      ],
      "metadata": {
        "id": "iP5Q4zvx95jF"
      }
    },
    {
      "cell_type": "code",
      "source": [
        "addition(3, 8)"
      ],
      "metadata": {
        "id": "KhoVoZn1-Rys",
        "colab": {
          "base_uri": "https://localhost:8080/"
        },
        "outputId": "beb4b72f-8839-444f-a0f8-6bda1fe17847"
      },
      "execution_count": 35,
      "outputs": [
        {
          "output_type": "stream",
          "name": "stdout",
          "text": [
            "11\n"
          ]
        }
      ]
    },
    {
      "cell_type": "markdown",
      "source": [
        "## The `return` statement\n",
        "\n",
        "There are times when a function is required to return an **object** (could be any data type), to achieve this Python allows you to use the `return` keyword followed by the data to return at the end of your function definition.\n",
        "\n",
        "#### Example 4.2:"
      ],
      "metadata": {
        "id": "WS3VQWbG_BlW"
      }
    },
    {
      "cell_type": "code",
      "source": [
        "# Example 4.2:\n",
        "def greet(name):\n",
        "    \"\"\"This function greets the user who's name is passed as an argument\"\"\"\n",
        "\n",
        "    if len(name) >= 1:\n",
        "        return \"Good day \" + name + \".\"\n",
        "    else:\n",
        "        return \"Good day\"\n",
        "\n",
        "\n",
        "print(greet(\"Adebayo\"))\n",
        "\n",
        "#print(greet(\"\"))"
      ],
      "metadata": {
        "id": "-3qA4-bhGJAH",
        "colab": {
          "base_uri": "https://localhost:8080/"
        },
        "outputId": "39d39ba9-a1b2-4691-f50b-4df37f1d5714"
      },
      "execution_count": 36,
      "outputs": [
        {
          "output_type": "stream",
          "name": "stdout",
          "text": [
            "Good day Adebayo.\n"
          ]
        }
      ]
    },
    {
      "cell_type": "markdown",
      "source": [
        "## Function Parameters\n",
        "\n",
        "Functions can take variable number of parameters and can have a default value.\n",
        "\n",
        "We see this in the examples below.\n",
        "\n",
        "#### Example 4.3:"
      ],
      "metadata": {
        "id": "ih16VuDAM5dx"
      }
    },
    {
      "cell_type": "code",
      "source": [
        "# Example 4.3\n",
        "# greet() function modified to take two arguments\n",
        "def greet(name, msg):\n",
        "  return msg + \" \" + name\n",
        "\n",
        "print(greet(\"Amaka\", \"Good afternoon\"))"
      ],
      "metadata": {
        "id": "xJOIXQt3Q6g-",
        "colab": {
          "base_uri": "https://localhost:8080/"
        },
        "outputId": "35bdfdcb-8032-476c-b960-d1f77735cbde"
      },
      "execution_count": 37,
      "outputs": [
        {
          "output_type": "stream",
          "name": "stdout",
          "text": [
            "Good afternoon Amaka\n"
          ]
        }
      ]
    },
    {
      "cell_type": "markdown",
      "source": [
        "We futher try to modify the greet function to optionally take one argument."
      ],
      "metadata": {
        "id": "KNAIAqa5RiWg"
      }
    },
    {
      "cell_type": "code",
      "source": [
        "def greet(name, msg=\"Good evening\"):\n",
        "  return msg + \" \" + name\n",
        "\n",
        "print(greet(\"Waziri\"))\n",
        "\n",
        "#Call the greet function specifying the second argument\n",
        "print(greet(\"Blessing\", \"You are welcome\"))"
      ],
      "metadata": {
        "id": "p2UI6LKnR2lK",
        "colab": {
          "base_uri": "https://localhost:8080/"
        },
        "outputId": "05e5bc8f-8098-4568-e989-26dbdc902b7f"
      },
      "execution_count": 38,
      "outputs": [
        {
          "output_type": "stream",
          "name": "stdout",
          "text": [
            "Good evening Waziri\n",
            "You are welcome Blessing\n"
          ]
        }
      ]
    },
    {
      "cell_type": "markdown",
      "source": [
        "Arguments not assigned default values are called **positional arguments** while those assigned values are called **keyword arguments**.\n",
        "\n",
        "A function is capable of taking an arbitrary number of arguments, this is useful when we don't know the number of arguments that would be passed to our function.\n",
        "\n",
        "To accept an arbitrary number of arguments in your function simply use an asterics (*) before the parameter name in the function definition."
      ],
      "metadata": {
        "id": "w6riZWZxT7yW"
      }
    },
    {
      "cell_type": "code",
      "source": [
        "def greet(*names):\n",
        "  for name in names:\n",
        "    print(\"Good day\", name)\n",
        "\n",
        "greet(\"Emeka\", \"Anthony\", \"Funke\", \"Sani\")"
      ],
      "metadata": {
        "id": "eQ5khiDic_OK",
        "colab": {
          "base_uri": "https://localhost:8080/"
        },
        "outputId": "58f7e47c-7194-4a04-9726-b455fea71712"
      },
      "execution_count": 39,
      "outputs": [
        {
          "output_type": "stream",
          "name": "stdout",
          "text": [
            "Good day Emeka\n",
            "Good day Anthony\n",
            "Good day Funke\n",
            "Good day Sani\n"
          ]
        }
      ]
    },
    {
      "cell_type": "markdown",
      "source": [
        "# Lists and Dictionaries\n",
        "\n",
        "In addition to the initial data types we've studies there are lists and dictionary data types in Python and we would look through them in this section.\n",
        "\n",
        "Lists allow us to hold different data types in a collection seperated by commas, we see this in the example below.\n",
        "\n",
        "#### Example 5.1:"
      ],
      "metadata": {
        "id": "wiks4PorEoDK"
      }
    },
    {
      "cell_type": "code",
      "source": [
        "# Example 5.1\n",
        "\n",
        "# List of strings\n",
        "presidents = [\"Olusegun Obasanjo\", \"Umaru Musa Yar'Adua\", \"Goodluck Jonathan\"]\n",
        "\n",
        "# List of integers\n",
        "prices = [230, 215, 212, 228, 234, 229, 218]\n",
        "\n",
        "# List with mixed data types\n",
        "data_recieved = [\"Won\", 310, \"Loss\", True, 99.2]\n",
        "\n",
        "# Lists can also contain nested lists\n",
        "student_result = [[\"Tunde\", \"SS3B\", 83], [\"Chioma\", \"SS3A\", 91], [\"Tobechi\", \"SS3A\", 99]]"
      ],
      "metadata": {
        "id": "t7uhTmPXExOF"
      },
      "execution_count": 40,
      "outputs": []
    },
    {
      "cell_type": "markdown",
      "source": [
        "## Accessing List Items\n",
        "\n",
        "List items are called also called elements and have indexes starting from zero. There are various ways of assessing list items. We shall see them in examples below.\n",
        "\n",
        "### Using the index operator [ ]\n",
        "Remember our very first list created earlier into our class. The `student_list` variable we will play around with it in the following examples.\n",
        "\n",
        "#### Example 5.2:"
      ],
      "metadata": {
        "id": "-8Syskqb-q9p"
      }
    },
    {
      "cell_type": "code",
      "source": [
        "# Let's print the list to screen\n",
        "\n",
        "print(\"This is the complete list of students: \", student_list)"
      ],
      "metadata": {
        "id": "eOI377GB0l3B",
        "colab": {
          "base_uri": "https://localhost:8080/"
        },
        "outputId": "84f86b44-44ef-41da-f995-fad90ef139a1"
      },
      "execution_count": 41,
      "outputs": [
        {
          "output_type": "stream",
          "name": "stdout",
          "text": [
            "This is the complete list of students:  ['Henry', 'Taiwo', 'Adebayo', 'Abdulahi', 'Tobechi']\n"
          ]
        }
      ]
    },
    {
      "cell_type": "code",
      "source": [
        "# Let's print only the first list item\n",
        "\n",
        "print(\"The name of the first student in the list is:\", student_list[0])"
      ],
      "metadata": {
        "colab": {
          "base_uri": "https://localhost:8080/"
        },
        "id": "tMne-Pfrkq9a",
        "outputId": "abdd2003-5ffc-4a58-fd77-64d002939419"
      },
      "execution_count": 42,
      "outputs": [
        {
          "output_type": "stream",
          "name": "stdout",
          "text": [
            "The name of the first student in the list is: Henry\n"
          ]
        }
      ]
    },
    {
      "cell_type": "code",
      "source": [
        "# Let's print the name of the third student\n",
        "\n",
        "print(\"The name of the 3rd student in the list is:\", student_list[2])"
      ],
      "metadata": {
        "colab": {
          "base_uri": "https://localhost:8080/"
        },
        "id": "EFdaFs7Okucx",
        "outputId": "4395da27-1519-4d87-8f54-191ee0f73be3"
      },
      "execution_count": 43,
      "outputs": [
        {
          "output_type": "stream",
          "name": "stdout",
          "text": [
            "The name of the 3rd student in the list is: Adebayo\n"
          ]
        }
      ]
    },
    {
      "cell_type": "markdown",
      "source": [
        "## Accessing List Items of Nested Lists\n",
        "\n",
        "We go on in the following example to access items of our `student_result` nested list we created earlier.\n",
        "\n",
        "#### Example 5.3:"
      ],
      "metadata": {
        "id": "cFJ7opfkmjUS"
      }
    },
    {
      "cell_type": "code",
      "source": [
        "# Let's print the student_result list so you can see it's content\n",
        "\n",
        "student_result"
      ],
      "metadata": {
        "colab": {
          "base_uri": "https://localhost:8080/"
        },
        "id": "5dqz6UJqnn6A",
        "outputId": "6db51212-fb4f-401c-8649-7c5b76f2a1f0"
      },
      "execution_count": 44,
      "outputs": [
        {
          "output_type": "execute_result",
          "data": {
            "text/plain": [
              "[['Tunde', 'SS3B', 83], ['Chioma', 'SS3A', 91], ['Tobechi', 'SS3A', 99]]"
            ]
          },
          "metadata": {},
          "execution_count": 44
        }
      ]
    },
    {
      "cell_type": "markdown",
      "source": [
        "To access the items of a nested list we use the index operator [ ] for each nesting starting with the parent list. So if we have two levels of nesting we would have [ ][ ], if we have three levels of nesting we'd have [ ][ ][ ]."
      ],
      "metadata": {
        "id": "9v3og6qoo6zL"
      }
    },
    {
      "cell_type": "code",
      "source": [
        "# Let's access the score of the first student\n",
        "\n",
        "student_result[0][2]"
      ],
      "metadata": {
        "colab": {
          "base_uri": "https://localhost:8080/"
        },
        "id": "jLveiY0OoPYk",
        "outputId": "5184cbc3-a0c9-4ae6-b4d3-88aed5eb3d66"
      },
      "execution_count": 45,
      "outputs": [
        {
          "output_type": "execute_result",
          "data": {
            "text/plain": [
              "83"
            ]
          },
          "metadata": {},
          "execution_count": 45
        }
      ]
    },
    {
      "cell_type": "code",
      "source": [
        "# Class of the second student\n",
        "\n",
        "student_result[1][1]"
      ],
      "metadata": {
        "colab": {
          "base_uri": "https://localhost:8080/",
          "height": 35
        },
        "id": "4-UooMSip9hH",
        "outputId": "0b49cb20-c14b-4241-e988-ed952f7fc34d"
      },
      "execution_count": 46,
      "outputs": [
        {
          "output_type": "execute_result",
          "data": {
            "text/plain": [
              "'SS3A'"
            ],
            "application/vnd.google.colaboratory.intrinsic+json": {
              "type": "string"
            }
          },
          "metadata": {},
          "execution_count": 46
        }
      ]
    },
    {
      "cell_type": "markdown",
      "source": [
        "## Negative Indexing\n",
        "\n",
        "Negative indexes like `[-1]` are supported in Python. An index of -1 refers to the last item in the list while -2 to the second last item and so on.\n",
        "\n",
        "#### Example 5.4:"
      ],
      "metadata": {
        "id": "lskTwSZtqhsu"
      }
    },
    {
      "cell_type": "code",
      "source": [
        "# Accessing the last record in the student_result variable\n",
        "\n",
        "student_result[-1]"
      ],
      "metadata": {
        "colab": {
          "base_uri": "https://localhost:8080/"
        },
        "id": "S170mEwprH9E",
        "outputId": "bb02dc22-9b7b-44ac-ad5b-001a161a85bb"
      },
      "execution_count": 47,
      "outputs": [
        {
          "output_type": "execute_result",
          "data": {
            "text/plain": [
              "['Tobechi', 'SS3A', 99]"
            ]
          },
          "metadata": {},
          "execution_count": 47
        }
      ]
    },
    {
      "cell_type": "code",
      "source": [
        "# Accessing the score of the last student on the student_result variable\n",
        "\n",
        "student_result[-1][-1]"
      ],
      "metadata": {
        "colab": {
          "base_uri": "https://localhost:8080/"
        },
        "id": "psTGFCVZrXMh",
        "outputId": "882044fb-c764-47cd-e389-b86a2af82504"
      },
      "execution_count": 48,
      "outputs": [
        {
          "output_type": "execute_result",
          "data": {
            "text/plain": [
              "99"
            ]
          },
          "metadata": {},
          "execution_count": 48
        }
      ]
    },
    {
      "cell_type": "markdown",
      "source": [
        "## Dictionary\n",
        "\n",
        "Dictionaries in Python are an ordered collection of key and value pairs.\n",
        "\n",
        "The disctionary holds **`key:value`** pairs and is represeneted by **`{}`**.\n",
        "\n",
        "Values in a dictionary can be of any data type however Keys in a dictionary can only be immutable data types.\n",
        "\n",
        "Immutable data types are data types that can not be changed after creation.\n",
        "\n",
        "#### Example 5.5:"
      ],
      "metadata": {
        "id": "NZt5fhnZsrt0"
      }
    },
    {
      "cell_type": "code",
      "source": [
        "# We go on to create student profiles and assign them a registration number which becomes keys in our dictionary\n",
        "\n",
        "student_profiles = {1001: \"Emeka\", 1002: \"Akintola\", 1003: \"Blessing\"}\n",
        "\n",
        "query = int(input(\"Enter a student REG. No.: \"))\n",
        "\n",
        "# Access the student record using the key same way we accessed list items\n",
        "print(student_profiles[query])"
      ],
      "metadata": {
        "colab": {
          "base_uri": "https://localhost:8080/"
        },
        "id": "H1RlfWTj1gvu",
        "outputId": "231eb5f5-da53-4711-866d-cae0eba3bc5a"
      },
      "execution_count": 49,
      "outputs": [
        {
          "output_type": "stream",
          "name": "stdout",
          "text": [
            "Enter a student REG. No.: 1001\n",
            "Emeka\n"
          ]
        }
      ]
    },
    {
      "cell_type": "markdown",
      "source": [
        "We futher improve our code by adding more records to the `student_profiles` using nested dictionaries. \n"
      ],
      "metadata": {
        "id": "lqGCI6Fg_H9U"
      }
    },
    {
      "cell_type": "code",
      "source": [
        "# We go on to create student profiles and assign them a registration number which becomes keys in our dictionary\n",
        "\n",
        "student_profiles = {1001: {\"name\": \"Emeka\", \"age\": 19, \"department\": \"Mechanical Engineering\"}, 1002: {\"name\": \"Akintola\", \"age\": 20, \"department\": \"Computer Engineering\"}, 1003: {\"name\": \"Blessing\", \"age\": 18, \"department\": \"Biological Sciences\"}}\n",
        "\n",
        "query = int(input(\"Enter a student REG. No.: \"))\n",
        "\n",
        "# Access the student record using the key same way we accessed list items\n",
        "data = student_profiles[query]\n",
        "\n",
        "for info in data:\n",
        "  if info == \"name\":\n",
        "    print(f\"Name: {data[info]}\")\n",
        "  elif info == \"age\":\n",
        "    print(f\"Age: {data[info]}\")\n",
        "  else:\n",
        "    print(f\"Department: {data[info]}\")"
      ],
      "metadata": {
        "colab": {
          "base_uri": "https://localhost:8080/"
        },
        "id": "Bx8kCC6RD97H",
        "outputId": "33d89184-d24a-4f67-d169-3a4f4cefb673"
      },
      "execution_count": 50,
      "outputs": [
        {
          "output_type": "stream",
          "name": "stdout",
          "text": [
            "Enter a student REG. No.: 1002\n",
            "Name: Akintola\n",
            "Age: 20\n",
            "Department: Computer Engineering\n"
          ]
        }
      ]
    },
    {
      "cell_type": "markdown",
      "source": [
        "# Classes and Objects\n",
        "\n",
        "Python is a great Object Oriented Programming lannguae (OOP). \n",
        "\n",
        "**What is OOP?**\n",
        "Object Oriented Programming is a programming paradigm that allows us to conceptualize our program into classes (blueprints) which are used to build objects that can containt data and code. In addition to known classes in Python like the 'int' and 'str' classes we have learnt so far we can create our own classes using OOP.\n",
        "\n",
        "A **Class** is the blueprint from which the objects are being created. It is a logical entity that contains some attributes and methods. \n",
        "\n",
        "An **Object** also know as instance of a class is the creation made from the detailed blueprint called **Class**.\n",
        "\n",
        "*Let's illustrate the idea of a Class:*\n",
        "Think of a class as a generic drawing of the known Cat biological family called ***Felidae***. There are 36 wild cat species in this family and all 36 wild cats share common but unique attributes, these attributes become what we know as ***instance attributes*** while Felidae becomes ***class attribute***.\n",
        "\n",
        "Let's see an Example below.\n",
        "\n",
        "#### Example 6.1:"
      ],
      "metadata": {
        "id": "lTKFNqBoEz7D"
      }
    },
    {
      "cell_type": "code",
      "source": [
        "class Cat:\n",
        "\n",
        "  # Class attribute\n",
        "  family = \"Felidae\"\n",
        "\n",
        "  # Instance attribute\n",
        "  def __init__(self, specie, gestation_period, speed):\n",
        "    self.specie = specie\n",
        "    self.gestation_period = gestation_period\n",
        "    self.speed = speed"
      ],
      "metadata": {
        "id": "J0ntTSa5E7ZO"
      },
      "execution_count": 51,
      "outputs": []
    },
    {
      "cell_type": "markdown",
      "source": [
        "Having defined and illustrated a class in the example above, let us continue below by creating an Object or Instance of the Cat class defined above."
      ],
      "metadata": {
        "id": "jJ6cSjsVGscb"
      }
    },
    {
      "cell_type": "code",
      "source": [
        "# Creating instances of the Cat class\n",
        "lion = Cat(\"Lion\", 110, 80)\n",
        "leopard = Cat(\"Leopard\", 105, 58)\n",
        "\n",
        "# Checking the Object Types\n",
        "print(f\"The {lion.specie}'s class is:\", type(lion))\n",
        "\n",
        "# Accessing Instance attribute and Class attributes \n",
        "print(f\"The {lion.specie}'s scientifc family name is {Cat.family}\")"
      ],
      "metadata": {
        "colab": {
          "base_uri": "https://localhost:8080/"
        },
        "id": "hUOyHsrHG9h5",
        "outputId": "4b33ffb5-94bd-4d16-e19d-71efaeecf871"
      },
      "execution_count": 52,
      "outputs": [
        {
          "output_type": "stream",
          "name": "stdout",
          "text": [
            "The Lion's class is: <class '__main__.Cat'>\n",
            "The Lion's scientifc family name is Felidae\n"
          ]
        }
      ]
    },
    {
      "cell_type": "markdown",
      "source": [
        "## Class Methods"
      ],
      "metadata": {
        "id": "-UHPUXKdKmRS"
      }
    },
    {
      "cell_type": "code",
      "source": [],
      "metadata": {
        "id": "Zx75fqqYKrVe"
      },
      "execution_count": null,
      "outputs": []
    }
  ]
}